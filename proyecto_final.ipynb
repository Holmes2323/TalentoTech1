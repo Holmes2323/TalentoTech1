{
  "cells": [
    {
      "cell_type": "markdown",
      "metadata": {
        "id": "2_VMgD4n0y-R"
      },
      "source": [
        "1. Analisis del problema: Calcular la cantidad de casos por género y por grupos de edad, así como comparar los datos de género con los departamento."
      ]
    },
    {
      "cell_type": "markdown",
      "metadata": {
        "id": "RhgYa-pC1Da4"
      },
      "source": [
        "2. Objetivo : Se investigará la distribución de casos de COVID-19 según el género y grupos de edad, así como su relación con los diferentes departamentos. El objetivo es identificar patrones de propagación de la enfermedad."
      ]
    },
    {
      "cell_type": "markdown",
      "metadata": {
        "id": "TYYxrWpQ8Au9"
      },
      "source": [
        "3. Recolección de datos"
      ]
    },
    {
      "cell_type": "markdown",
      "metadata": {
        "id": "MZaIi_te1Hhr"
      },
      "source": [
        "importamos las librerias."
      ]
    },
    {
      "cell_type": "code",
      "execution_count": null,
      "metadata": {
        "id": "tTU5HyzN0mkB"
      },
      "outputs": [],
      "source": [
        "from google.colab import files\n",
        "import pandas as pd\n",
        "import matplotlib.pyplot as plt\n",
        "import seaborn as sns"
      ]
    },
    {
      "cell_type": "markdown",
      "metadata": {
        "id": "e7CiZgNR1Mnb"
      },
      "source": [
        "Cargamos el dataset."
      ]
    },
    {
      "cell_type": "code",
      "execution_count": null,
      "metadata": {
        "colab": {
          "background_save": true
        },
        "id": "Nu7He7we1CJA"
      },
      "outputs": [],
      "source": [
        "uploaded = files.upload()\n"
      ]
    },
    {
      "cell_type": "markdown",
      "metadata": {
        "id": "yB-NMNhe1SPI"
      },
      "source": [
        "Leemos el archivo y creamos el dataset"
      ]
    },
    {
      "cell_type": "code",
      "execution_count": null,
      "metadata": {
        "id": "BvZ40K_w1Xnw"
      },
      "outputs": [],
      "source": [
        "for fn in uploaded.keys():\n",
        "  #contiene los archivos enun diccionario!\n",
        "  print('El usuario subió el archivo \"{name}\" con longitud {length} bytes'.format(\n",
        "      name=fn, length=len(uploaded[fn]))) # imprimimos las caracteristicas del dataset\n",
        "\n",
        "# Ahora, puedes leer el archivo CSV con pandas\n",
        "df = pd.read_csv(fn) # creamos el dataset"
      ]
    },
    {
      "cell_type": "code",
      "execution_count": null,
      "metadata": {
        "colab": {
          "background_save": true
        },
        "id": "IgFxPYe_5Y5t"
      },
      "outputs": [],
      "source": [
        "pd.set_option('display.max_rows', None)\n",
        "display(df)"
      ]
    },
    {
      "cell_type": "markdown",
      "metadata": {
        "id": "5akM1d8uHtrA"
      },
      "source": [
        "Una vez que hemos cargado los datos, es importante verificar que se hayan subido correctamente."
      ]
    },
    {
      "cell_type": "code",
      "execution_count": null,
      "metadata": {
        "colab": {
          "background_save": true
        },
        "id": "TsOjgPt41lV4"
      },
      "outputs": [],
      "source": [
        "print(df)\n"
      ]
    },
    {
      "cell_type": "markdown",
      "metadata": {
        "id": "3tswN-Is78lg"
      },
      "source": [
        "4. Limpieza de datos."
      ]
    },
    {
      "cell_type": "markdown",
      "metadata": {
        "id": "nmDZ-Nai1uh4"
      },
      "source": [
        "Codigo para limpieza de datos, visualizar el tamaño del dataset antes de eliminar."
      ]
    },
    {
      "cell_type": "code",
      "execution_count": null,
      "metadata": {
        "colab": {
          "background_save": true
        },
        "id": "fiJI6Zxh1wu5"
      },
      "outputs": [],
      "source": [
        "#hacemos una busqueda de filas repetidas\n",
        "print(f'tamaño del set antes de eliminar las filas repetidas{df.shape}')\n"
      ]
    },
    {
      "cell_type": "markdown",
      "metadata": {
        "id": "sjtA4o381-9I"
      },
      "source": [
        "Codigo para la eliminacion de filas repetidas. una vez ya comprobado el tamaño del dataset."
      ]
    },
    {
      "cell_type": "code",
      "execution_count": null,
      "metadata": {
        "id": "g1cII4GH2GIs"
      },
      "outputs": [],
      "source": [
        "# en nuestro caso no se encontraron filas repetidas\n",
        "df.drop_duplicates(inplace=True)\n",
        "print(f'tamaño del set antes de eliminar las filas repetidas{df.shape}')"
      ]
    },
    {
      "cell_type": "markdown",
      "metadata": {
        "id": "2hk3ASsQ80p4"
      },
      "source": [
        "Convertimos la edad a tipo de dato numerico"
      ]
    },
    {
      "cell_type": "code",
      "execution_count": null,
      "metadata": {
        "colab": {
          "background_save": true
        },
        "id": "nLiRQdPf8y-B"
      },
      "outputs": [],
      "source": [
        "df['EDAD'] = pd.to_numeric(df['EDAD'], errors='coerce')"
      ]
    },
    {
      "cell_type": "markdown",
      "metadata": {
        "id": "v6WwLY5v-LTe"
      },
      "source": [
        "Renombramos las columnas"
      ]
    },
    {
      "cell_type": "code",
      "execution_count": null,
      "metadata": {
        "colab": {
          "background_save": true
        },
        "id": "Oh6ZSoUK-N4Z"
      },
      "outputs": [],
      "source": [
        "df.rename(columns={'EDAD': 'EDAD_PACIENTES', 'SEXO': 'GÉNERO'}, inplace=True)\n"
      ]
    },
    {
      "cell_type": "markdown",
      "metadata": {
        "id": "M2L37tkFFJDC"
      },
      "source": [
        "Verificamos si hay valores nulos en el dataset"
      ]
    },
    {
      "cell_type": "code",
      "execution_count": null,
      "metadata": {
        "id": "H7BLnAdNFMsM"
      },
      "outputs": [],
      "source": [
        "# Verificar si hay valores nulos en el DataFrame\n",
        "valores_nulos = df.isnull().sum()\n",
        "\n",
        "# Mostrar la cantidad de valores nulos por columna\n",
        "print(\"Cantidad de valores nulos por columna:\")\n",
        "print(valores_nulos)"
      ]
    },
    {
      "cell_type": "markdown",
      "metadata": {
        "id": "snZXxAJOFPcV"
      },
      "source": [
        "Verificamos"
      ]
    },
    {
      "cell_type": "code",
      "execution_count": null,
      "metadata": {
        "colab": {
          "background_save": true
        },
        "id": "RaiQwT--AFOi"
      },
      "outputs": [],
      "source": [
        "print(df)"
      ]
    },
    {
      "cell_type": "markdown",
      "metadata": {
        "id": "9Q8f81dZAfxS"
      },
      "source": [
        "Eliminamos filas irrelevantes y que no van con nuestro analisis."
      ]
    },
    {
      "cell_type": "code",
      "execution_count": null,
      "metadata": {
        "colab": {
          "background_save": true
        },
        "id": "kAHGjg7pAjoq"
      },
      "outputs": [],
      "source": [
        "df.drop(['OBJECTID', 'ID','TIPO', 'FECHA', 'CIUDAD', 'ATENCION', 'PROCEDENCIA', 'GlobalID', 'FECHATXT','FECHA_MUERTE', 'FECHA_RECUPERADO', 'COD_DIVIPOLA', 'ESTADO', 'FIS', 'FIS_NOTA', 'COD_DPTO'], axis=1, inplace=True)"
      ]
    },
    {
      "cell_type": "markdown",
      "metadata": {
        "id": "N62dr9rTEF4p"
      },
      "source": [
        "* Mostramos las columnas que deseamos realizar el  analisis\n",
        "\n",
        "\n"
      ]
    },
    {
      "cell_type": "markdown",
      "metadata": {
        "id": "8y_7Of4FYN7D"
      },
      "source": [
        "5. Analisis exploratorio"
      ]
    },
    {
      "cell_type": "code",
      "execution_count": null,
      "metadata": {
        "colab": {
          "background_save": true
        },
        "id": "kqKNo4QUEFG8"
      },
      "outputs": [],
      "source": [
        "columnas_a_mostrar = ['DPTO','EDAD_PACIENTES','GÉNERO','RANGO_EDAD']\n",
        "print(df[columnas_a_mostrar])"
      ]
    },
    {
      "cell_type": "markdown",
      "metadata": {
        "id": "XEbXHD-bDykm"
      },
      "source": [
        "Hacemos nuevamente un verificacion para determinar si hay valores nulos. y la cantidad en base a cada columna"
      ]
    },
    {
      "cell_type": "code",
      "execution_count": null,
      "metadata": {
        "colab": {
          "background_save": true
        },
        "id": "jlEES87XHGOH"
      },
      "outputs": [],
      "source": [
        "valores_nulos = df.isnull().sum()\n",
        "print(\"Cantidad de valores nulos por columna:\")\n",
        "print(valores_nulos)"
      ]
    },
    {
      "cell_type": "markdown",
      "metadata": {
        "id": "5qH6EMQ6Iwp5"
      },
      "source": [
        "Se exhiben nuevamente los datos limpios y estructurados según nuestro análisis."
      ]
    },
    {
      "cell_type": "code",
      "execution_count": null,
      "metadata": {
        "colab": {
          "background_save": true
        },
        "id": "C0tRxfuwIuHn"
      },
      "outputs": [],
      "source": [
        "print(df)"
      ]
    },
    {
      "cell_type": "markdown",
      "metadata": {
        "id": "LJboOz-RI9RW"
      },
      "source": [
        "\n",
        "6. Resultados"
      ]
    },
    {
      "cell_type": "markdown",
      "metadata": {
        "id": "HYs4BTAxJwui"
      },
      "source": [
        "Análisis exploratorio de la variable 'edad'"
      ]
    },
    {
      "cell_type": "code",
      "execution_count": null,
      "metadata": {
        "colab": {
          "background_save": true
        },
        "id": "j_gA8NF2JAuQ"
      },
      "outputs": [],
      "source": [
        "#variable de edad\n",
        "print(\"La variable edad :\")\n",
        "print(df['EDAD_PACIENTES'].describe())\n",
        "# Grafica de la edad de los pacientes\n",
        "plt.figure(figsize=(10, 6))\n",
        "sns.histplot(df['EDAD_PACIENTES'], bins=20, kde=True, color='skyblue')\n",
        "plt.title('Distribución de la Edad de los Pacientes')\n",
        "plt.xlabel('Edad')\n",
        "plt.ylabel('Frecuencia')\n",
        "plt.show()\n"
      ]
    },
    {
      "cell_type": "markdown",
      "metadata": {
        "id": "q3qgVXqhKFKC"
      },
      "source": [
        "variable cantidad de generos"
      ]
    },
    {
      "cell_type": "markdown",
      "metadata": {
        "id": "ueHbSg8TM4GD"
      },
      "source": [
        "1. Conteo de casos por género y visualización mediante gráfico de barras\n",
        "2. Conteo de casos por grupos de edad y visualización mediante gráfico de barras"
      ]
    },
    {
      "cell_type": "code",
      "execution_count": null,
      "metadata": {
        "colab": {
          "background_save": true
        },
        "id": "YWDfQVbBKGHn"
      },
      "outputs": [],
      "source": [
        "# 1.\n",
        "plt.figure(figsize=(8, 5))\n",
        "sns.countplot(x='GÉNERO', data=df, palette='pastel')\n",
        "plt.title('Cantidad de Casos por Género')\n",
        "plt.xlabel('Género')\n",
        "plt.ylabel('Cantidad de Casos')\n",
        "plt.show()\n",
        "\n",
        "# 2.\n",
        "\n",
        "plt.figure(figsize=(12, 6))\n",
        "sns.histplot(df['RANGO_EDAD'], bins=len(df['RANGO_EDAD'].unique()), color='lightgreen')\n",
        "plt.title('Distribución de Casos por Grupos de Edad')\n",
        "plt.xlabel('Rango de Edad')\n",
        "plt.ylabel('Cantidad de Casos')\n"
      ]
    },
    {
      "cell_type": "markdown",
      "metadata": {
        "id": "JAPhP-tdF66u"
      },
      "source": [
        "datos por 'RANGO_EDAD' y contar los casos"
      ]
    },
    {
      "cell_type": "code",
      "execution_count": null,
      "metadata": {
        "colab": {
          "background_save": true
        },
        "id": "LInqJXzuF5Tr"
      },
      "outputs": [],
      "source": [
        "casos_por_rango_edad = df.groupby('RANGO_EDAD').size().reset_index(name='CASOS')"
      ]
    },
    {
      "cell_type": "markdown",
      "metadata": {
        "id": "q-Uet5x1F9mT"
      },
      "source": [
        "datos de mayor a menor según la cantidad de casos\n"
      ]
    },
    {
      "cell_type": "code",
      "execution_count": null,
      "metadata": {
        "colab": {
          "background_save": true
        },
        "id": "uktnF7k_GATt"
      },
      "outputs": [],
      "source": [
        "casos_por_rango_edad = casos_por_rango_edad.sort_values(by='CASOS', ascending=False)"
      ]
    },
    {
      "cell_type": "markdown",
      "metadata": {
        "id": "g77_a0n-GG5O"
      },
      "source": [
        "1. Rango de edad con más casos\n",
        "2. Rango de edad con menos casos"
      ]
    },
    {
      "cell_type": "code",
      "execution_count": null,
      "metadata": {
        "colab": {
          "background_save": true
        },
        "id": "GgBxMQR3FxhP"
      },
      "outputs": [],
      "source": [
        "#1\n",
        "rango_max_casos = casos_por_rango_edad.iloc[0]['RANGO_EDAD']\n",
        "max_casos = casos_por_rango_edad.iloc[0]['CASOS']\n",
        "print(f\"El rango de edad con más casos de COVID-19 es {rango_max_casos} con {max_casos} casos.\")\n",
        "#2\n",
        "rango_min_casos = casos_por_rango_edad.iloc[-1]['RANGO_EDAD']\n",
        "min_casos = casos_por_rango_edad.iloc[-1]['CASOS']\n",
        "print(f\"El rango de edad con menos casos de COVID-19 es {rango_min_casos} con {min_casos} casos.\")"
      ]
    },
    {
      "cell_type": "code",
      "execution_count": null,
      "metadata": {
        "colab": {
          "background_save": true
        },
        "id": "rtEg0rPYD4ir"
      },
      "outputs": [],
      "source": [
        "casos_por_edad = df.groupby('EDAD_PACIENTES').size().reset_index(name='CASOS')"
      ]
    },
    {
      "cell_type": "markdown",
      "metadata": {
        "id": "veGg_1vnMvMc"
      },
      "source": [
        "Que relacion hay entre :  género y la edad de los pacientes"
      ]
    },
    {
      "cell_type": "code",
      "execution_count": null,
      "metadata": {
        "colab": {
          "background_save": true
        },
        "id": "6EpHkEU1D7XR"
      },
      "outputs": [],
      "source": [
        "casos_por_edad = casos_por_edad.sort_values(by='CASOS', ascending=False)"
      ]
    },
    {
      "cell_type": "markdown",
      "metadata": {
        "id": "AcnwhE4zERr3"
      },
      "source": [
        "1. Edad con más casos\n",
        "2. Edad con menos casos"
      ]
    },
    {
      "cell_type": "code",
      "execution_count": null,
      "metadata": {
        "colab": {
          "background_save": true
        },
        "id": "uQAefAKLD9qs"
      },
      "outputs": [],
      "source": [
        "#1\n",
        "edad_max_casos = casos_por_edad.iloc[0]['EDAD_PACIENTES']\n",
        "max_casos = casos_por_edad.iloc[0]['CASOS']\n",
        "print(f\"La edad con más casos de COVID-19 es {edad_max_casos} con {max_casos} casos.\")\n",
        "\n",
        "#2.\n",
        "edad_min_casos = casos_por_edad.iloc[-1]['EDAD_PACIENTES']\n",
        "min_casos = casos_por_edad.iloc[-1]['CASOS']\n",
        "print(f\"La edad con menos casos de COVID-19 es {edad_min_casos} con {min_casos} casos.\")"
      ]
    },
    {
      "cell_type": "markdown",
      "metadata": {
        "id": "njLgZSr3EoFx"
      },
      "source": [
        "Relacion entre genero y edad de los pacientes."
      ]
    },
    {
      "cell_type": "code",
      "execution_count": null,
      "metadata": {
        "colab": {
          "background_save": true
        },
        "id": "JI6Uqk-rKv2q"
      },
      "outputs": [],
      "source": [
        "plt.figure(figsize=(10, 6))\n",
        "sns.boxplot(data=df, x='GÉNERO', y='EDAD_PACIENTES')\n",
        "plt.title(\"Relación entre género y edad de los pacientes\")\n",
        "plt.xlabel(\"Género\")\n",
        "plt.ylabel(\"Edad\")\n",
        "plt.show()"
      ]
    },
    {
      "cell_type": "markdown",
      "metadata": {
        "id": "qIvvjo8wYfaE"
      },
      "source": [
        "En el gráfico se aprecia que la media aritmética se sitúa alrededor de los 38 años. Asimismo, se evidencia la presencia de datos atípicos, particularmente después de los 85 años."
      ]
    },
    {
      "cell_type": "markdown",
      "metadata": {
        "id": "0gKJ7klDCMok"
      },
      "source": [
        "Visualización de casos por departamento y género"
      ]
    },
    {
      "cell_type": "code",
      "execution_count": null,
      "metadata": {
        "colab": {
          "background_save": true
        },
        "id": "JE9-dZ_eB_rg"
      },
      "outputs": [],
      "source": [
        "\n",
        "casos_por_dpto_genero = df.groupby(['DPTO', 'GÉNERO']).size().reset_index(name='CASOS')\n",
        "\n",
        "plt.figure(figsize=(12, 6))\n",
        "sns.barplot(data=casos_por_dpto_genero, x='DPTO', y='CASOS', hue='GÉNERO')\n",
        "plt.xticks(rotation=90)\n",
        "plt.title('Casos de COVID-19 por Departamento y Género')\n",
        "plt.xlabel('Departamento')\n",
        "plt.ylabel('Cantidad de Casos')\n",
        "plt.show()"
      ]
    },
    {
      "cell_type": "markdown",
      "metadata": {
        "id": "UICP8bZ-Cydr"
      },
      "source": [
        "datos por departamento y género, y contar los casos"
      ]
    },
    {
      "cell_type": "code",
      "execution_count": null,
      "metadata": {
        "colab": {
          "background_save": true
        },
        "id": "DzHrKJ2lCVCq"
      },
      "outputs": [],
      "source": [
        "casos_por_dpto_genero = df.groupby(['DPTO', 'GÉNERO']).size().reset_index(name='CASOS')"
      ]
    },
    {
      "cell_type": "markdown",
      "metadata": {
        "id": "IVu0H8FDC0oC"
      },
      "source": [
        "Obtener el total de casos por departamento"
      ]
    },
    {
      "cell_type": "code",
      "execution_count": null,
      "metadata": {
        "colab": {
          "background_save": true
        },
        "id": "gp79y3HhCXXg"
      },
      "outputs": [],
      "source": [
        "total_casos_por_dpto = casos_por_dpto_genero.groupby('DPTO')['CASOS'].sum().reset_index()"
      ]
    },
    {
      "cell_type": "markdown",
      "metadata": {
        "id": "gSQ0aGU6C4OC"
      },
      "source": [
        "Codigo para ordenar : departamentos de mayor a menor número de casos"
      ]
    },
    {
      "cell_type": "code",
      "execution_count": null,
      "metadata": {
        "colab": {
          "background_save": true
        },
        "id": "hWCFMTQ9CZ0Y"
      },
      "outputs": [],
      "source": [
        "\n",
        "total_casos_por_dpto = total_casos_por_dpto.sort_values(by='CASOS', ascending=False)"
      ]
    },
    {
      "cell_type": "markdown",
      "metadata": {
        "id": "HgfclE73C7lK"
      },
      "source": [
        "1. Mostrar el departamento con más casos\n",
        "2. Mostrar el departamento con menos casos"
      ]
    },
    {
      "cell_type": "code",
      "execution_count": null,
      "metadata": {
        "colab": {
          "background_save": true
        },
        "id": "mLSq3KV0CcCR"
      },
      "outputs": [],
      "source": [
        "#1\n",
        "dpto_max_casos = total_casos_por_dpto.iloc[0]['DPTO']\n",
        "max_casos = total_casos_por_dpto.iloc[0]['CASOS']\n",
        "print(f\"El departamento con más casos de COVID-19 es {dpto_max_casos} con {max_casos} casos.\")\n",
        "#2\n",
        "dpto_min_casos = total_casos_por_dpto.iloc[-1]['DPTO']\n",
        "min_casos = total_casos_por_dpto.iloc[-1]['CASOS']\n",
        "print(f\"El departamento con menos casos de COVID-19 es {dpto_min_casos} con {min_casos} casos.\")"
      ]
    },
    {
      "cell_type": "markdown",
      "metadata": {
        "id": "9rg0jDwbXoGt"
      },
      "source": [
        "La ciudad con el mayor número de casos de COVID-19 es Bogotá, con 743 casos.\n",
        "Por otro lado, el departamento con el menor número de casos es San Andrés, con tan solo 1 caso registrado."
      ]
    }
  ],
  "metadata": {
    "colab": {
      "provenance": []
    },
    "kernelspec": {
      "display_name": "Python 3",
      "name": "python3"
    },
    "language_info": {
      "name": "python"
    }
  },
  "nbformat": 4,
  "nbformat_minor": 0
}